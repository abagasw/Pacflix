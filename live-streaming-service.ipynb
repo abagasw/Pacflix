{
 "cells": [
  {
   "cell_type": "code",
   "execution_count": 1,
   "metadata": {},
   "outputs": [],
   "source": [
    "# Create Data\n",
    "from tabulate import tabulate\n",
    "\n",
    "# Data\n",
    "plans = {\n",
    "    \"Basic\": {\"price\": 120000, \"can_stream\": True, \"can_download\": True, \"has_SD\": True, \"has_HD\": False, \"has_UHD\": False, \"num_of_devices\": 1, \"content\": \"3rd party movie only\"},\n",
    "    \"Standard\": {\"price\": 160000, \"can_stream\": True, \"can_download\": True, \"has_SD\": True, \"has_HD\": True, \"has_UHD\": False, \"num_of_devices\": 2, \"content\": \"Basic Plan Content + Sports (F1, Football, Basketball)\"},\n",
    "    \"Premium\": {\"price\": 200000, \"can_stream\": True, \"can_download\": True, \"has_SD\": True, \"has_HD\": True, \"has_UHD\": True, \"num_of_devices\": 4, \"content\": \"Basic Plan + Standard Plan + PacFlix Original Series or Movie\"}\n",
    "}\n",
    "\n",
    "users = {\n",
    "    \"Yudha\": {\"plan\": \"Basic\", \"duration\": 13, \"referral_code\": None},\n",
    "    \"Bagus\": {\"plan\": \"Premium\", \"duration\": 5, \"referral_code\": None},\n",
    "}"
   ]
  },
  {
   "cell_type": "code",
   "execution_count": 4,
   "metadata": {},
   "outputs": [
    {
     "name": "stdout",
     "output_type": "stream",
     "text": [
      "Check Benefit:\n",
      "+----------+------------+--------------+----------------+----------+----------+-----------+------------------+---------------------------------------------------------------+\n",
      "| Plan     | Price      | Can Stream   | Can Download   | Has SD   | Has HD   | Has UHD   |   Num of Devices | Content                                                       |\n",
      "+==========+============+==============+================+==========+==========+===========+==================+===============================================================+\n",
      "| Basic    | Rp 120,000 | True         | True           | True     | False    | False     |                1 | 3rd party movie only                                          |\n",
      "+----------+------------+--------------+----------------+----------+----------+-----------+------------------+---------------------------------------------------------------+\n",
      "| Standard | Rp 160,000 | True         | True           | True     | True     | False     |                2 | Basic Plan Content + Sports (F1, Football, Basketball)        |\n",
      "+----------+------------+--------------+----------------+----------+----------+-----------+------------------+---------------------------------------------------------------+\n",
      "| Premium  | Rp 200,000 | True         | True           | True     | True     | True      |                4 | Basic Plan + Standard Plan + PacFlix Original Series or Movie |\n",
      "+----------+------------+--------------+----------------+----------+----------+-----------+------------------+---------------------------------------------------------------+\n"
     ]
    }
   ],
   "source": [
    "# Fungsi untuk cek benefit\n",
    "def check_benefit():\n",
    "    headers = [\"Plan\", \"Price\", \"Can Stream\", \"Can Download\", \"Has SD\", \"Has HD\", \"Has UHD\", \"Num of Devices\", \"Content\"]\n",
    "    table = []\n",
    "    for plan, details in plans.items():\n",
    "        row = [plan, f\"Rp {details['price']:,}\", details[\"can_stream\"], details[\"can_download\"], details[\"has_SD\"], details[\"has_HD\"], details[\"has_UHD\"], details[\"num_of_devices\"], details[\"content\"]]\n",
    "        table.append(row)\n",
    "    return tabulate(table, headers, tablefmt=\"grid\")\n",
    "\n",
    "\n",
    "print(\"Check Benefit:\")\n",
    "print(check_benefit())"
   ]
  },
  {
   "cell_type": "code",
   "execution_count": 5,
   "metadata": {},
   "outputs": [
    {
     "name": "stdout",
     "output_type": "stream",
     "text": [
      "\n",
      "Check Plan for Yudha:\n",
      "{'username': 'Yudha', 'plan': 'Basic', 'duration': 13, 'benefits': {'price': 120000, 'can_stream': True, 'can_download': True, 'has_SD': True, 'has_HD': False, 'has_UHD': False, 'num_of_devices': 1, 'content': '3rd party movie only'}}\n"
     ]
    }
   ],
   "source": [
    "# Fungsi untuk cek plan aktif user\n",
    "def check_plan(username):\n",
    "    user = users.get(username)\n",
    "    if user:\n",
    "        plan = user[\"plan\"]\n",
    "        duration = user[\"duration\"]\n",
    "        benefits = plans[plan]\n",
    "        return {\n",
    "            \"username\": username,\n",
    "            \"plan\": plan,\n",
    "            \"duration\": duration,\n",
    "            \"benefits\": benefits\n",
    "        }\n",
    "    return \"User not found\"\n",
    "\n",
    "print(\"\\nCheck Plan for Yudha:\")\n",
    "print(check_plan(\"Yudha\"))"
   ]
  },
  {
   "cell_type": "code",
   "execution_count": 7,
   "metadata": {},
   "outputs": [
    {
     "name": "stdout",
     "output_type": "stream",
     "text": [
      "\n",
      "Upgrade Plan for Yudha to Standard:\n",
      "Rp 152,000.0\n"
     ]
    }
   ],
   "source": [
    "# Fungsi untuk upgrade plan\n",
    "def upgrade_plan(username, new_plan):\n",
    "    user = users.get(username)\n",
    "    if user:\n",
    "        if user[\"duration\"] > 12:\n",
    "            discount = 0.05\n",
    "        else:\n",
    "            discount = 0.0\n",
    "        total = plans[new_plan][\"price\"] - (plans[new_plan][\"price\"] * discount)\n",
    "        return f\"Rp {total:,}\"\n",
    "    return \"User not found\"\n",
    "\n",
    "print(\"\\nUpgrade Plan for Yudha to Standard:\")\n",
    "print(upgrade_plan(\"Yudha\", \"Standard\"))"
   ]
  },
  {
   "cell_type": "code",
   "execution_count": 6,
   "metadata": {},
   "outputs": [
    {
     "name": "stdout",
     "output_type": "stream",
     "text": [
      "\n",
      "New User Pick Plan with Referral Code:\n",
      "Rp 160,000.0\n"
     ]
    }
   ],
   "source": [
    "# Fungsi untuk daftar user baru\n",
    "def pick_plan(new_plan, referral_code):\n",
    "    if referral_code in [u.get(\"referral_code\") for u in users.values()]:\n",
    "        discount = 0.04\n",
    "    else:\n",
    "        discount = 0.0\n",
    "    total = plans[new_plan][\"price\"] - (plans[new_plan][\"price\"] * discount)\n",
    "    return f\"Rp {total:,}\"\n",
    "\n",
    "print(\"\\nNew User Pick Plan with Referral Code:\")\n",
    "print(pick_plan(\"Standard\", \"Bagus\"))"
   ]
  }
 ],
 "metadata": {
  "kernelspec": {
   "display_name": ".venv",
   "language": "python",
   "name": "python3"
  },
  "language_info": {
   "codemirror_mode": {
    "name": "ipython",
    "version": 3
   },
   "file_extension": ".py",
   "mimetype": "text/x-python",
   "name": "python",
   "nbconvert_exporter": "python",
   "pygments_lexer": "ipython3",
   "version": "3.9.6"
  }
 },
 "nbformat": 4,
 "nbformat_minor": 2
}
