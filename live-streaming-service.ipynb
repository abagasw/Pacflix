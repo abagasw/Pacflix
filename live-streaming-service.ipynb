{
 "cells": [
  {
   "cell_type": "code",
   "execution_count": 22,
   "metadata": {},
   "outputs": [
    {
     "name": "stdout",
     "output_type": "stream",
     "text": [
      "{'Basic Plan': {'price': 120000, 'can_stream': True, 'can_download': True, 'has_SD': True, 'has_HD': False, 'has_UHD': False, 'num_of_devices': 1, 'content': '3rd party movie only'}, 'Standard Plan': {'price': 160000, 'can_stream': True, 'can_download': True, 'has_SD': True, 'has_HD': True, 'has_UHD': False, 'num_of_devices': 2, 'content': 'Basic Plan Content + Sports (F1, Football, Basketball)'}, 'Premium Plan': {'price': 200000, 'can_stream': True, 'can_download': True, 'has_SD': True, 'has_HD': True, 'has_UHD': True, 'num_of_devices': 4, 'content': 'Basic Plan + Standard Plan + PacFlix Original Series or Movie'}}\n"
     ]
    }
   ],
   "source": [
    "from tabulate import tabulate\n",
    "\n",
    "# Table Plan\n",
    "plans = {\n",
    "    \"Basic Plan\": {\"price\": 120000, \"can_stream\": True, \"can_download\": True, \"has_SD\": True, \"has_HD\": False, \"has_UHD\": False, \"num_of_devices\": 1, \"content\": \"3rd party movie only\"},\n",
    "    \"Standard Plan\": {\"price\": 160000, \"can_stream\": True, \"can_download\": True, \"has_SD\": True, \"has_HD\": True, \"has_UHD\": False, \"num_of_devices\": 2, \"content\": \"Basic Plan Content + Sports (F1, Football, Basketball)\"},\n",
    "    \"Premium Plan\": {\"price\": 200000, \"can_stream\": True, \"can_download\": True, \"has_SD\": True, \"has_HD\": True, \"has_UHD\": True, \"num_of_devices\": 4, \"content\": \"Basic Plan + Standard Plan + PacFlix Original Series or Movie\"}\n",
    "}\n",
    "print(plans)"
   ]
  },
  {
   "cell_type": "code",
   "execution_count": 23,
   "metadata": {},
   "outputs": [
    {
     "name": "stdout",
     "output_type": "stream",
     "text": [
      "{'Shandy': ['Basic Plan', 12, 'shandy-2134'], 'Cahya': ['Standard Plan', 24, 'cahya-abcd'], 'Ana': ['Premium Plan', 5, 'ana-2f9g'], 'Bagus': ['Basic Plan', 11, 'bagus-9f92']}\n"
     ]
    }
   ],
   "source": [
    "# Create Data\n",
    "data = {\n",
    "    \"Shandy\": [\"Basic Plan\", 12, \"shandy-2134\"],\n",
    "    \"Cahya\": [\"Standard Plan\", 24, \"cahya-abcd\"],\n",
    "    \"Ana\": [\"Premium Plan\", 5, \"ana-2f9g\"],\n",
    "    \"Bagus\": [\"Basic Plan\", 11, \"bagus-9f92\"]\n",
    "}\n",
    "\n",
    "print(data)"
   ]
  },
  {
   "cell_type": "code",
   "execution_count": 24,
   "metadata": {},
   "outputs": [],
   "source": [
    "# Create Class User\n",
    "class User:\n",
    "    def __init__(self, username, plan, duration, referral_code):\n",
    "        self.username = username\n",
    "        self.plan = plan\n",
    "        self.duration = duration\n",
    "        self.referral_code = referral_code\n"
   ]
  },
  {
   "cell_type": "code",
   "execution_count": 25,
   "metadata": {},
   "outputs": [],
   "source": [
    "# Create Object User\n",
    "users = {username: User(username, *details) for username, details in data.items()}"
   ]
  },
  {
   "cell_type": "code",
   "execution_count": 26,
   "metadata": {},
   "outputs": [
    {
     "name": "stdout",
     "output_type": "stream",
     "text": [
      "Check Benefit:\n",
      "+---------------+------------+--------------+----------------+----------+----------+-----------+------------------+---------------------------------------------------------------+\n",
      "| Plan          | Price      | Can Stream   | Can Download   | Has SD   | Has HD   | Has UHD   |   Num of Devices | Content                                                       |\n",
      "+===============+============+==============+================+==========+==========+===========+==================+===============================================================+\n",
      "| Basic Plan    | Rp 120,000 | True         | True           | True     | False    | False     |                1 | 3rd party movie only                                          |\n",
      "+---------------+------------+--------------+----------------+----------+----------+-----------+------------------+---------------------------------------------------------------+\n",
      "| Standard Plan | Rp 160,000 | True         | True           | True     | True     | False     |                2 | Basic Plan Content + Sports (F1, Football, Basketball)        |\n",
      "+---------------+------------+--------------+----------------+----------+----------+-----------+------------------+---------------------------------------------------------------+\n",
      "| Premium Plan  | Rp 200,000 | True         | True           | True     | True     | True      |                4 | Basic Plan + Standard Plan + PacFlix Original Series or Movie |\n",
      "+---------------+------------+--------------+----------------+----------+----------+-----------+------------------+---------------------------------------------------------------+\n"
     ]
    }
   ],
   "source": [
    "# Fungsi untuk cek benefit\n",
    "def check_benefit():\n",
    "    headers = [\"Plan\", \"Price\", \"Can Stream\", \"Can Download\", \"Has SD\", \"Has HD\", \"Has UHD\", \"Num of Devices\", \"Content\"]\n",
    "    table = []\n",
    "    for plan, details in plans.items():\n",
    "        row = [plan, f\"Rp {details['price']:,}\", details[\"can_stream\"], details[\"can_download\"], details[\"has_SD\"], details[\"has_HD\"], details[\"has_UHD\"], details[\"num_of_devices\"], details[\"content\"]]\n",
    "        table.append(row)\n",
    "    return tabulate(table, headers, tablefmt=\"grid\")\n",
    "\n",
    "\n",
    "print(\"Check Benefit:\")\n",
    "print(check_benefit())"
   ]
  },
  {
   "cell_type": "code",
   "execution_count": 27,
   "metadata": {},
   "outputs": [
    {
     "name": "stdout",
     "output_type": "stream",
     "text": [
      "\n",
      "Check Plan for Shandy:\n",
      "{'username': 'Shandy', 'plan': 'Basic Plan', 'duration': 12, 'benefits': {'price': 120000, 'can_stream': True, 'can_download': True, 'has_SD': True, 'has_HD': False, 'has_UHD': False, 'num_of_devices': 1, 'content': '3rd party movie only'}}\n"
     ]
    }
   ],
   "source": [
    "# Fungsi untuk cek plan aktif user\n",
    "def check_plan(username):\n",
    "    user = users.get(username)\n",
    "    if user:\n",
    "        plan = user.plan\n",
    "        duration = user.duration\n",
    "        benefits = plans[plan]\n",
    "        return {\n",
    "            \"username\": username,\n",
    "            \"plan\": plan,\n",
    "            \"duration\": duration,\n",
    "            \"benefits\": benefits\n",
    "        }\n",
    "    return \"User not found\"\n",
    "\n",
    "print(\"\\nCheck Plan for Shandy:\")\n",
    "print(check_plan(\"Shandy\"))"
   ]
  },
  {
   "cell_type": "code",
   "execution_count": 28,
   "metadata": {},
   "outputs": [
    {
     "name": "stdout",
     "output_type": "stream",
     "text": [
      "\n",
      "Upgrade Plan for Yudha to Standard:\n",
      "User not found\n"
     ]
    }
   ],
   "source": [
    "# Fungsi untuk upgrade plan\n",
    "def upgrade_plan(username, new_plan):\n",
    "    user = users.get(username)\n",
    "    if user:\n",
    "        if user.duration > 12:\n",
    "            discount = 0.05\n",
    "        else:\n",
    "            discount = 0.0\n",
    "        total = plans[new_plan][\"price\"] - (plans[new_plan][\"price\"] * discount)\n",
    "        return f\"Rp {total:,}\"\n",
    "    return \"User not found\"\n",
    "\n",
    "print(\"\\nUpgrade Plan for Yudha to Standard:\")\n",
    "print(upgrade_plan(\"Yudha\", \"Standard\"))"
   ]
  },
  {
   "cell_type": "code",
   "execution_count": 29,
   "metadata": {},
   "outputs": [
    {
     "name": "stdout",
     "output_type": "stream",
     "text": [
      "\n",
      "New User Pick Plan with Referral Code:\n",
      "Rp 153,600.0\n"
     ]
    }
   ],
   "source": [
    "# Fungsi untuk daftar user baru\n",
    "def pick_plan(new_plan, referral_code):\n",
    "    if referral_code in [u.referral_code for u in users.values()]:\n",
    "        discount = 0.04\n",
    "    else:\n",
    "        discount = 0.0\n",
    "    total = plans[new_plan][\"price\"] - (plans[new_plan][\"price\"] * discount)\n",
    "    return f\"Rp {total:,}\"\n",
    "\n",
    "print(\"\\nNew User Pick Plan with Referral Code:\")\n",
    "new_user = User(\"Faizal\", \"Standard Plan\", 0, \"bagus-9f92\")\n",
    "print(pick_plan(new_user.plan, new_user.referral_code))"
   ]
  }
 ],
 "metadata": {
  "kernelspec": {
   "display_name": ".venv",
   "language": "python",
   "name": "python3"
  },
  "language_info": {
   "codemirror_mode": {
    "name": "ipython",
    "version": 3
   },
   "file_extension": ".py",
   "mimetype": "text/x-python",
   "name": "python",
   "nbconvert_exporter": "python",
   "pygments_lexer": "ipython3",
   "version": "3.9.6"
  }
 },
 "nbformat": 4,
 "nbformat_minor": 2
}
